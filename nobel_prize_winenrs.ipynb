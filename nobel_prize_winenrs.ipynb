{
 "cells": [
  {
   "attachments": {},
   "cell_type": "markdown",
   "metadata": {},
   "source": [
    "The Nobel Prize offers a Web API https://nobelprize.readme.io/docs/prize"
   ]
  },
  {
   "cell_type": "code",
   "execution_count": 1,
   "metadata": {},
   "outputs": [],
   "source": [
    "from pymongo import MongoClient\n",
    "from pprint import pprint\n",
    "import requests \n",
    "import json"
   ]
  },
  {
   "cell_type": "code",
   "execution_count": 3,
   "metadata": {},
   "outputs": [],
   "source": [
    "# Client connects to \"localhost\" by default \n",
    "client = MongoClient()"
   ]
  },
  {
   "cell_type": "code",
   "execution_count": 4,
   "metadata": {},
   "outputs": [],
   "source": [
    "# Create local \"nobel\" database on the fly \n",
    "db = client[\"nobel\"]\n",
    "db.prizes.drop()\n",
    "db.laureates.drop()\n",
    "# API documented at https://nobelprize.readme.io/docs/prize \n",
    "for collection_name in [\"prizes\", \"laureates\"]:\n",
    "    singular = collection_name[:-1] # the API uses singular\n",
    "    response = requests.get( \"http://api.nobelprize.org/v1/{}.json\".format(singular)) \n",
    "    documents = response.json()[collection_name] \n",
    "    # Create collections on the fly \n",
    "    db[collection_name].insert_many(documents)"
   ]
  },
  {
   "cell_type": "code",
   "execution_count": 5,
   "metadata": {},
   "outputs": [
    {
     "name": "stdout",
     "output_type": "stream",
     "text": [
      "{'_id': ObjectId('648b6dcd5a4e4bc30463e583'),\n",
      " 'born': '1845-03-27',\n",
      " 'bornCity': 'Lennep (now Remscheid)',\n",
      " 'bornCountry': 'Prussia (now Germany)',\n",
      " 'bornCountryCode': 'DE',\n",
      " 'died': '1923-02-10',\n",
      " 'diedCity': 'Munich',\n",
      " 'diedCountry': 'Germany',\n",
      " 'diedCountryCode': 'DE',\n",
      " 'firstname': 'Wilhelm Conrad',\n",
      " 'gender': 'male',\n",
      " 'id': '1',\n",
      " 'prizes': [{'affiliations': [{'city': 'Munich',\n",
      "                               'country': 'Germany',\n",
      "                               'name': 'Munich University'}],\n",
      "             'category': 'physics',\n",
      "             'motivation': '\"in recognition of the extraordinary services he '\n",
      "                           'has rendered by the discovery of the remarkable '\n",
      "                           'rays subsequently named after him\"',\n",
      "             'share': '1',\n",
      "             'year': '1901'}],\n",
      " 'surname': 'Röntgen'}\n"
     ]
    }
   ],
   "source": [
    "pprint(db.laureates.find_one())"
   ]
  },
  {
   "cell_type": "code",
   "execution_count": 6,
   "metadata": {},
   "outputs": [
    {
     "name": "stdout",
     "output_type": "stream",
     "text": [
      "Wilhelm Conrad\n"
     ]
    }
   ],
   "source": [
    "# TODO: Print the first name of the first document\n",
    "first_document = db.laureates.find_one()\n",
    "print(first_document[\"firstname\"])"
   ]
  },
  {
   "cell_type": "code",
   "execution_count": 7,
   "metadata": {},
   "outputs": [
    {
     "name": "stdout",
     "output_type": "stream",
     "text": [
      "Number of female laureates: 60\n"
     ]
    }
   ],
   "source": [
    "# How many female laureates exists? \n",
    "female_laureates_count = db.laureates.count_documents({\"gender\": \"female\"})\n",
    "print(\"Number of female laureates:\", female_laureates_count)"
   ]
  },
  {
   "cell_type": "code",
   "execution_count": 8,
   "metadata": {},
   "outputs": [
    {
     "data": {
      "text/plain": [
       "['Bavaria (now Germany)',\n",
       " 'East Friesland (now Germany)',\n",
       " 'Germany',\n",
       " 'Germany (now France)',\n",
       " 'Germany (now Poland)',\n",
       " 'Germany (now Russia)',\n",
       " 'Hesse-Kassel (now Germany)',\n",
       " 'Mecklenburg (now Germany)',\n",
       " 'Prussia (now Germany)',\n",
       " 'Schleswig (now Germany)',\n",
       " 'West Germany (now Germany)',\n",
       " 'Württemberg (now Germany)']"
      ]
     },
     "execution_count": 8,
     "metadata": {},
     "output_type": "execute_result"
    }
   ],
   "source": [
    "db.laureates.distinct(\"bornCountry\", {\"bornCountry\": {\"$regex\": \"Germany\"}})"
   ]
  },
  {
   "cell_type": "code",
   "execution_count": 9,
   "metadata": {},
   "outputs": [
    {
     "name": "stdout",
     "output_type": "stream",
     "text": [
      "Number of laureates from Germany: 0\n"
     ]
    }
   ],
   "source": [
    "# TODO: How many laureates are from Germany?\n",
    "german_laureates_count = db.laureates.count_documents({\"birth.country\": \"Germany\"})\n",
    "print(\"Number of laureates from Germany:\", german_laureates_count)"
   ]
  },
  {
   "cell_type": "code",
   "execution_count": 33,
   "metadata": {},
   "outputs": [
    {
     "name": "stdout",
     "output_type": "stream",
     "text": [
      "32\n"
     ]
    }
   ],
   "source": [
    "# TODO: Find all physics nobel laureates that are from Germany\n",
    "# print the year of the first prize, the first name, and surname\n",
    "\n",
    "german_physics_laureates = db.laureates.find({\"bornCountry\": {\"$regex\": \"Germany\"}, \"prizes.category\": \"physics\"})\n",
    "#for testing\n",
    "count = db.laureates.count_documents({\"bornCountry\": {\"$regex\": \"Germany\"}, \"prizes.category\": \"physics\"})\n",
    "print(count)"
   ]
  },
  {
   "cell_type": "code",
   "execution_count": 39,
   "metadata": {},
   "outputs": [
    {
     "name": "stdout",
     "output_type": "stream",
     "text": [
      "1901 Wilhelm Conrad Röntgen\n"
     ]
    }
   ],
   "source": [
    "first_physics_laureate = db.laureates.find_one({\"bornCountry\": {\"$regex\": \"Germany\"}, \"prizes.category\": \"physics\"})\n",
    "\n",
    "if first_physics_laureate:\n",
    "    first_prize = first_physics_laureate['prizes'][0]\n",
    "    year = first_prize.get('year')\n",
    "    firstname = first_physics_laureate['firstname']\n",
    "    surname = first_physics_laureate['surname']\n",
    "\n",
    "    if year:\n",
    "        print(year, firstname, surname)\n",
    "    else:\n",
    "        print(\"Year not available for the first physics Nobel laureate from Germany.\")\n",
    "else:\n",
    "    print(\"No physics Nobel laureates from Germany found.\")"
   ]
  },
  {
   "cell_type": "code",
   "execution_count": 40,
   "metadata": {},
   "outputs": [
    {
     "name": "stdout",
     "output_type": "stream",
     "text": [
      "{'_id': ObjectId('648b6dce5a4e4bc30463e8f3'), 'id': '914', 'firstname': 'Malala', 'surname': 'Yousafzai', 'born': '1997-07-12', 'died': '0000-00-00', 'bornCountry': 'Pakistan', 'bornCountryCode': 'PK', 'bornCity': 'Mingora', 'gender': 'female', 'prizes': [{'year': '2014', 'category': 'peace', 'share': '2', 'motivation': '\"for their struggle against the suppression of children and young people and for the right of all children to education\"', 'affiliations': [[]]}]}\n"
     ]
    }
   ],
   "source": [
    "# TODO: find and print the document for \"Malala\" (firstname)\n",
    "malala_document = db.laureates.find_one({\"firstname\": \"Malala\"})\n",
    "\n",
    "if malala_document:\n",
    "    print(malala_document)\n",
    "else:\n",
    "    print(\"No document found for Malala.\")\n"
   ]
  },
  {
   "attachments": {},
   "cell_type": "markdown",
   "metadata": {},
   "source": [
    "# sort()"
   ]
  },
  {
   "cell_type": "code",
   "execution_count": 65,
   "metadata": {},
   "outputs": [
    {
     "name": "stdout",
     "output_type": "stream",
     "text": [
      "60\n"
     ]
    }
   ],
   "source": [
    "# TODO: Find only female nobel laureates \n",
    "# and sort them according the the prize year in ascending order\n",
    "# print year of the first prize, firstname, and surename\n",
    "female_laureates = db.laureates.find({\"gender\": \"female\", \"prizes\": {\"$exists\": True}}).sort(\"prizes.year\", 1)\n",
    "#for checkin\n",
    "num_females = db.laureates.count_documents({\"gender\": \"female\", \"prizes\": {\"$exists\": True}})\n",
    "print(num_females) #output 60"
   ]
  },
  {
   "cell_type": "code",
   "execution_count": 66,
   "metadata": {},
   "outputs": [
    {
     "name": "stdout",
     "output_type": "stream",
     "text": [
      "1903 Marie Curie\n"
     ]
    }
   ],
   "source": [
    "if num_females > 0:\n",
    "    first_female_laureate = female_laureates[0]\n",
    "    first_prize = first_female_laureate['prizes'][0]\n",
    "    year = first_prize['year']\n",
    "    firstname = first_female_laureate['firstname']\n",
    "    surname = first_female_laureate['surname']\n",
    "\n",
    "    print(year, firstname, surname)\n",
    "else:\n",
    "    print(\"No female Nobel laureates found.\")"
   ]
  }
 ],
 "metadata": {
  "kernelspec": {
   "display_name": "Python 3",
   "language": "python",
   "name": "python3"
  },
  "language_info": {
   "codemirror_mode": {
    "name": "ipython",
    "version": 3
   },
   "file_extension": ".py",
   "mimetype": "text/x-python",
   "name": "python",
   "nbconvert_exporter": "python",
   "pygments_lexer": "ipython3",
   "version": "3.10.11"
  },
  "orig_nbformat": 4
 },
 "nbformat": 4,
 "nbformat_minor": 2
}
