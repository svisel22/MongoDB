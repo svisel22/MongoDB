{
 "cells": [
  {
   "cell_type": "code",
   "execution_count": 1,
   "metadata": {},
   "outputs": [
    {
     "name": "stdout",
     "output_type": "stream",
     "text": [
      "Collecting pymongo\n",
      "  Downloading pymongo-4.3.3-cp310-cp310-win_amd64.whl (382 kB)\n",
      "                                              0.0/382.5 kB ? eta -:--:--\n",
      "     -----------                            112.6/382.5 kB 3.3 MB/s eta 0:00:01\n",
      "     ----------------------------           286.7/382.5 kB 3.5 MB/s eta 0:00:01\n",
      "     -------------------------------------  378.9/382.5 kB 4.0 MB/s eta 0:00:01\n",
      "     -------------------------------------- 382.5/382.5 kB 2.7 MB/s eta 0:00:00\n",
      "Collecting dnspython<3.0.0,>=1.16.0 (from pymongo)\n",
      "  Downloading dnspython-2.3.0-py3-none-any.whl (283 kB)\n",
      "                                              0.0/283.7 kB ? eta -:--:--\n",
      "     ----------------------                174.1/283.7 kB 10.9 MB/s eta 0:00:01\n",
      "     -------------------------------------- 283.7/283.7 kB 2.9 MB/s eta 0:00:00\n",
      "Installing collected packages: dnspython, pymongo\n",
      "Successfully installed dnspython-2.3.0 pymongo-4.3.3\n",
      "Note: you may need to restart the kernel to use updated packages.\n"
     ]
    }
   ],
   "source": [
    "#%pip install pymongo"
   ]
  },
  {
   "cell_type": "code",
   "execution_count": 3,
   "metadata": {},
   "outputs": [],
   "source": [
    "from pymongo import MongoClient\n",
    "from pprint import pprint\n",
    "import requests \n",
    "import json"
   ]
  },
  {
   "cell_type": "code",
   "execution_count": 15,
   "metadata": {},
   "outputs": [],
   "source": []
  },
  {
   "cell_type": "code",
   "execution_count": 26,
   "metadata": {},
   "outputs": [],
   "source": [
    "# Client connects to \"localhost\" by default \n",
    "client = MongoClient()\n",
    "# Create local \"bipm\" database on the fly \n",
    "db = client['bipm']\n",
    "# When we rerun the whole notebook, we start from scratch \n",
    "# by dropping the colection \"courses\"\n",
    "db.courses.drop()"
   ]
  },
  {
   "cell_type": "code",
   "execution_count": 5,
   "metadata": {},
   "outputs": [],
   "source": []
  },
  {
   "cell_type": "code",
   "execution_count": 9,
   "metadata": {},
   "outputs": [],
   "source": []
  },
  {
   "cell_type": "code",
   "execution_count": 27,
   "metadata": {},
   "outputs": [],
   "source": [
    "# Create a Python Dictonary\n",
    "courses = [\n",
    "    {'title': 'Data Science',\n",
    "     'lecturer': {\n",
    "         'name': 'Markus Löcher',\n",
    "         'department': 'Math',\n",
    "         'status': 'Professor'\n",
    "     },\n",
    "     'semester': 1},\n",
    "    {'title': 'Data Warehousing',\n",
    "     'lecturer': {\n",
    "         'name': 'Roland M. Mueller',\n",
    "         'department': 'Information Systems',\n",
    "         'status': 'Professor'\n",
    "     },\n",
    "     'semester': 1},\n",
    "    {'title': 'Business Process Management',\n",
    "     'lecturer': {\n",
    "         'name': 'Frank Habermann',\n",
    "         'department': 'Information Systems',\n",
    "         'status': 'Professor'\n",
    "     },\n",
    "     'semester': 1},\n",
    "     {'title': 'Stratigic Issues of IT',\n",
    "     'lecturer': {\n",
    "         'name': 'Sven Pohland',\n",
    "         'department': 'Information Systems',\n",
    "         'status': 'Professor'\n",
    "     },\n",
    "     'semester': 1},\n",
    "    {'title': 'Text, Web and Social Media Analytics Lab',\n",
    "     'lecturer': {\n",
    "         'name': 'Markus Löcher',\n",
    "         'department': 'Math',\n",
    "         'status': 'Professor'\n",
    "     },\n",
    "     'semester': 2},\n",
    "    {'title': 'Enterprise Architectures for Big Data',\n",
    "     'lecturer': {\n",
    "         'name': 'Roland M. Mueller',\n",
    "         'department': 'Information Systems',\n",
    "         'status': 'Professor'\n",
    "     },\n",
    "     'semester': 2},\n",
    "    {'title': 'Business Process Integration Lab',\n",
    "     'lecturer': {\n",
    "         'name': 'Frank Habermann',\n",
    "         'department': 'Information Systems',\n",
    "         'status': 'Professor'\n",
    "     },\n",
    "      'semester': 2},\n",
    "    {'title': 'IT-Security and Privacy',\n",
    "     'lecturer': {\n",
    "         'name': 'Dennis Uckel',\n",
    "         'department': 'Information Systems',\n",
    "         'status': 'External'\n",
    "     },\n",
    "     'semester': 2},\n",
    "    {'title': 'Research Methods',\n",
    "     'lecturer': {\n",
    "         'name': 'Marcus Birkenkrahe',\n",
    "         'department': 'Information Systems',\n",
    "         'status': 'Professor'\n",
    "     },\n",
    "     'semester': 2},\n",
    "]"
   ]
  },
  {
   "cell_type": "code",
   "execution_count": 28,
   "metadata": {},
   "outputs": [
    {
     "name": "stdout",
     "output_type": "stream",
     "text": [
      "[{'lecturer': {'department': 'Math',\n",
      "               'name': 'Markus Löcher',\n",
      "               'status': 'Professor'},\n",
      "  'semester': 1,\n",
      "  'title': 'Data Science'},\n",
      " {'lecturer': {'department': 'Information Systems',\n",
      "               'name': 'Roland M. Mueller',\n",
      "               'status': 'Professor'},\n",
      "  'semester': 1,\n",
      "  'title': 'Data Warehousing'},\n",
      " {'lecturer': {'department': 'Information Systems',\n",
      "               'name': 'Frank Habermann',\n",
      "               'status': 'Professor'},\n",
      "  'semester': 1,\n",
      "  'title': 'Business Process Management'},\n",
      " {'lecturer': {'department': 'Information Systems',\n",
      "               'name': 'Sven Pohland',\n",
      "               'status': 'Professor'},\n",
      "  'semester': 1,\n",
      "  'title': 'Stratigic Issues of IT'},\n",
      " {'lecturer': {'department': 'Math',\n",
      "               'name': 'Markus Löcher',\n",
      "               'status': 'Professor'},\n",
      "  'semester': 2,\n",
      "  'title': 'Text, Web and Social Media Analytics Lab'},\n",
      " {'lecturer': {'department': 'Information Systems',\n",
      "               'name': 'Roland M. Mueller',\n",
      "               'status': 'Professor'},\n",
      "  'semester': 2,\n",
      "  'title': 'Enterprise Architectures for Big Data'},\n",
      " {'lecturer': {'department': 'Information Systems',\n",
      "               'name': 'Frank Habermann',\n",
      "               'status': 'Professor'},\n",
      "  'semester': 2,\n",
      "  'title': 'Business Process Integration Lab'},\n",
      " {'lecturer': {'department': 'Information Systems',\n",
      "               'name': 'Dennis Uckel',\n",
      "               'status': 'External'},\n",
      "  'semester': 2,\n",
      "  'title': 'IT-Security and Privacy'},\n",
      " {'lecturer': {'department': 'Information Systems',\n",
      "               'name': 'Marcus Birkenkrahe',\n",
      "               'status': 'Professor'},\n",
      "  'semester': 2,\n",
      "  'title': 'Research Methods'}]\n"
     ]
    }
   ],
   "source": [
    "pprint(courses)"
   ]
  },
  {
   "attachments": {},
   "cell_type": "markdown",
   "metadata": {},
   "source": [
    "# insert_many()"
   ]
  },
  {
   "cell_type": "code",
   "execution_count": 29,
   "metadata": {},
   "outputs": [
    {
     "data": {
      "text/plain": [
       "<pymongo.results.InsertManyResult at 0x1700738e500>"
      ]
     },
     "execution_count": 29,
     "metadata": {},
     "output_type": "execute_result"
    }
   ],
   "source": [
    "db.courses.insert_many(courses)"
   ]
  },
  {
   "attachments": {},
   "cell_type": "markdown",
   "metadata": {},
   "source": [
    "# find()"
   ]
  },
  {
   "cell_type": "code",
   "execution_count": 30,
   "metadata": {},
   "outputs": [
    {
     "name": "stdout",
     "output_type": "stream",
     "text": [
      "{'_id': ObjectId('648b0425b69619cfe1773923'), 'title': 'Data Science', 'lecturer': {'name': 'Markus Löcher', 'department': 'Math', 'status': 'Professor'}, 'semester': 1}\n",
      "{'_id': ObjectId('648b0425b69619cfe1773924'), 'title': 'Data Warehousing', 'lecturer': {'name': 'Roland M. Mueller', 'department': 'Information Systems', 'status': 'Professor'}, 'semester': 1}\n",
      "{'_id': ObjectId('648b0425b69619cfe1773925'), 'title': 'Business Process Management', 'lecturer': {'name': 'Frank Habermann', 'department': 'Information Systems', 'status': 'Professor'}, 'semester': 1}\n",
      "{'_id': ObjectId('648b0425b69619cfe1773926'), 'title': 'Stratigic Issues of IT', 'lecturer': {'name': 'Sven Pohland', 'department': 'Information Systems', 'status': 'Professor'}, 'semester': 1}\n",
      "{'_id': ObjectId('648b0425b69619cfe1773927'), 'title': 'Text, Web and Social Media Analytics Lab', 'lecturer': {'name': 'Markus Löcher', 'department': 'Math', 'status': 'Professor'}, 'semester': 2}\n",
      "{'_id': ObjectId('648b0425b69619cfe1773928'), 'title': 'Enterprise Architectures for Big Data', 'lecturer': {'name': 'Roland M. Mueller', 'department': 'Information Systems', 'status': 'Professor'}, 'semester': 2}\n",
      "{'_id': ObjectId('648b0425b69619cfe1773929'), 'title': 'Business Process Integration Lab', 'lecturer': {'name': 'Frank Habermann', 'department': 'Information Systems', 'status': 'Professor'}, 'semester': 2}\n",
      "{'_id': ObjectId('648b0425b69619cfe177392a'), 'title': 'IT-Security and Privacy', 'lecturer': {'name': 'Dennis Uckel', 'department': 'Information Systems', 'status': 'External'}, 'semester': 2}\n",
      "{'_id': ObjectId('648b0425b69619cfe177392b'), 'title': 'Research Methods', 'lecturer': {'name': 'Marcus Birkenkrahe', 'department': 'Information Systems', 'status': 'Professor'}, 'semester': 2}\n"
     ]
    }
   ],
   "source": [
    "# TODO: Print all courses\n",
    "def print_all():\n",
    "    # Find all courses in the collection\n",
    "    cursor = db.courses.find({})\n",
    "\n",
    "    # Iterate over the cursor to print each course\n",
    "    for course in cursor:\n",
    "        print(course)\n",
    "\n",
    "print_all()"
   ]
  },
  {
   "attachments": {},
   "cell_type": "markdown",
   "metadata": {},
   "source": [
    "# json"
   ]
  },
  {
   "cell_type": "code",
   "execution_count": 16,
   "metadata": {},
   "outputs": [
    {
     "data": {
      "text/plain": [
       "{'title': 'Master Thesis', 'semester': 3}"
      ]
     },
     "execution_count": 16,
     "metadata": {},
     "output_type": "execute_result"
    }
   ],
   "source": [
    "my_json = '{\"title\": \"Master Thesis\", \"semester\": 3}'\n",
    "another_course = json.loads(my_json)\n",
    "another_course"
   ]
  },
  {
   "attachments": {},
   "cell_type": "markdown",
   "metadata": {},
   "source": [
    "# insert_one()"
   ]
  },
  {
   "cell_type": "code",
   "execution_count": 31,
   "metadata": {},
   "outputs": [
    {
     "data": {
      "text/plain": [
       "<pymongo.results.InsertOneResult at 0x170073e4910>"
      ]
     },
     "execution_count": 31,
     "metadata": {},
     "output_type": "execute_result"
    }
   ],
   "source": [
    "# TODO: Store `another_course` as another course:\n",
    "db.courses.insert_one(another_course)\n"
   ]
  },
  {
   "cell_type": "code",
   "execution_count": 32,
   "metadata": {},
   "outputs": [
    {
     "name": "stdout",
     "output_type": "stream",
     "text": [
      "{'_id': ObjectId('648b0425b69619cfe1773923'), 'title': 'Data Science', 'lecturer': {'name': 'Markus Löcher', 'department': 'Math', 'status': 'Professor'}, 'semester': 1}\n",
      "{'_id': ObjectId('648b0425b69619cfe1773924'), 'title': 'Data Warehousing', 'lecturer': {'name': 'Roland M. Mueller', 'department': 'Information Systems', 'status': 'Professor'}, 'semester': 1}\n",
      "{'_id': ObjectId('648b0425b69619cfe1773925'), 'title': 'Business Process Management', 'lecturer': {'name': 'Frank Habermann', 'department': 'Information Systems', 'status': 'Professor'}, 'semester': 1}\n",
      "{'_id': ObjectId('648b0425b69619cfe1773926'), 'title': 'Stratigic Issues of IT', 'lecturer': {'name': 'Sven Pohland', 'department': 'Information Systems', 'status': 'Professor'}, 'semester': 1}\n",
      "{'_id': ObjectId('648b0425b69619cfe1773927'), 'title': 'Text, Web and Social Media Analytics Lab', 'lecturer': {'name': 'Markus Löcher', 'department': 'Math', 'status': 'Professor'}, 'semester': 2}\n",
      "{'_id': ObjectId('648b0425b69619cfe1773928'), 'title': 'Enterprise Architectures for Big Data', 'lecturer': {'name': 'Roland M. Mueller', 'department': 'Information Systems', 'status': 'Professor'}, 'semester': 2}\n",
      "{'_id': ObjectId('648b0425b69619cfe1773929'), 'title': 'Business Process Integration Lab', 'lecturer': {'name': 'Frank Habermann', 'department': 'Information Systems', 'status': 'Professor'}, 'semester': 2}\n",
      "{'_id': ObjectId('648b0425b69619cfe177392a'), 'title': 'IT-Security and Privacy', 'lecturer': {'name': 'Dennis Uckel', 'department': 'Information Systems', 'status': 'External'}, 'semester': 2}\n",
      "{'_id': ObjectId('648b0425b69619cfe177392b'), 'title': 'Research Methods', 'lecturer': {'name': 'Marcus Birkenkrahe', 'department': 'Information Systems', 'status': 'Professor'}, 'semester': 2}\n",
      "{'_id': ObjectId('648b01e6b69619cfe1773921'), 'title': 'Master Thesis', 'semester': 3}\n"
     ]
    }
   ],
   "source": [
    "# TODO: Print all courses\n",
    "print_all()"
   ]
  },
  {
   "attachments": {},
   "cell_type": "markdown",
   "metadata": {},
   "source": [
    "# find_one() and find()"
   ]
  },
  {
   "cell_type": "code",
   "execution_count": 39,
   "metadata": {},
   "outputs": [
    {
     "name": "stdout",
     "output_type": "stream",
     "text": [
      "{'_id': ObjectId('648b0425b69619cfe1773923'),\n",
      " 'lecturer': {'department': 'Math',\n",
      "              'name': 'Markus Löcher',\n",
      "              'status': 'Professor'},\n",
      " 'semester': 1,\n",
      " 'title': 'Data Science'}\n"
     ]
    }
   ],
   "source": [
    "# TODO: Find the course with the title \"Data Science\" \n",
    "# save the result in a varibale result\n",
    "# and pprint the result.\n",
    "\n",
    "result = db.courses.find_one({'title': 'Data Science'})\n",
    "pprint(result)"
   ]
  },
  {
   "cell_type": "code",
   "execution_count": 40,
   "metadata": {},
   "outputs": [
    {
     "name": "stdout",
     "output_type": "stream",
     "text": [
      "648b0425b69619cfe1773923\n",
      "Markus Löcher\n"
     ]
    }
   ],
   "source": [
    "print(result[\"_id\"])\n",
    "print(result[\"lecturer\"][\"name\"])"
   ]
  },
  {
   "cell_type": "code",
   "execution_count": 42,
   "metadata": {},
   "outputs": [
    {
     "name": "stdout",
     "output_type": "stream",
     "text": [
      "{'_id': ObjectId('648b0425b69619cfe1773927'),\n",
      " 'lecturer': {'department': 'Math',\n",
      "              'name': 'Markus Löcher',\n",
      "              'status': 'Professor'},\n",
      " 'semester': 2,\n",
      " 'title': 'Text, Web and Social Media Analytics Lab'}\n"
     ]
    }
   ],
   "source": [
    "# TODO: Find the first course (one course) in the second semester\n",
    "# and print it\n",
    "pprint(db.courses.find_one({'semester': 2}))"
   ]
  },
  {
   "cell_type": "code",
   "execution_count": 46,
   "metadata": {},
   "outputs": [
    {
     "name": "stdout",
     "output_type": "stream",
     "text": [
      "Text, Web and Social Media Analytics Lab\n",
      "Enterprise Architectures for Big Data\n",
      "Business Process Integration Lab\n",
      "IT-Security and Privacy\n",
      "Research Methods\n"
     ]
    }
   ],
   "source": [
    "# TODO: Find all courses in the second semester\n",
    "# and print the course titles\n",
    "cursor = db.courses.find({'semester': 2})\n",
    "for course in cursor:\n",
    "    print(course['title'])"
   ]
  },
  {
   "cell_type": "code",
   "execution_count": 52,
   "metadata": {},
   "outputs": [
    {
     "name": "stdout",
     "output_type": "stream",
     "text": [
      "Markus Löcher\n",
      "Roland M. Mueller\n",
      "Frank Habermann\n",
      "Dennis Uckel\n",
      "Marcus Birkenkrahe\n"
     ]
    }
   ],
   "source": [
    "# TODO: Find all courses in the second semester\n",
    "# and print the lecturers names\n",
    "cursor = db.courses.find({'semester': 2})\n",
    "for course in cursor:\n",
    "    print(course['lecturer']['name'])"
   ]
  },
  {
   "attachments": {},
   "cell_type": "markdown",
   "metadata": {},
   "source": [
    "# Subelements"
   ]
  },
  {
   "cell_type": "code",
   "execution_count": 55,
   "metadata": {},
   "outputs": [
    {
     "name": "stdout",
     "output_type": "stream",
     "text": [
      "Business Process Management in Semester  1\n",
      "Business Process Integration Lab in Semester  2\n"
     ]
    }
   ],
   "source": [
    "# TODO: Find all courses of Frank Habermann\n",
    "# and print the title and the semester\n",
    "cursor = db.courses.find({'lecturer.name': 'Frank Habermann'})\n",
    "for course in cursor:\n",
    "    print(course['title'], 'in Semester ', course['semester'])"
   ]
  },
  {
   "attachments": {},
   "cell_type": "markdown",
   "metadata": {},
   "source": [
    "# Logical And"
   ]
  },
  {
   "cell_type": "code",
   "execution_count": 56,
   "metadata": {},
   "outputs": [
    {
     "name": "stdout",
     "output_type": "stream",
     "text": [
      "Business Process Integration Lab in Semester  2\n"
     ]
    }
   ],
   "source": [
    "# TODO: Find all courses from Frank Habermann in the second semester\n",
    "# and print the title and the semester\n",
    "cursor = db.courses.find({'lecturer.name': 'Frank Habermann', 'semester': 2})\n",
    "for course in cursor:\n",
    "    print(course['title'], 'in Semester ', course['semester'])"
   ]
  },
  {
   "attachments": {},
   "cell_type": "markdown",
   "metadata": {},
   "source": [
    "# Logical or"
   ]
  },
  {
   "cell_type": "code",
   "execution_count": 60,
   "metadata": {},
   "outputs": [
    {
     "name": "stdout",
     "output_type": "stream",
     "text": [
      "Markus Löcher  teaches  Data Science in Semester  1\n",
      "Frank Habermann  teaches  Business Process Management in Semester  1\n",
      "Markus Löcher  teaches  Text, Web and Social Media Analytics Lab in Semester  2\n",
      "Frank Habermann  teaches  Business Process Integration Lab in Semester  2\n"
     ]
    }
   ],
   "source": [
    "# TODO: Find all courses from Frank Habermann or Markus Löcher\n",
    "# and print the title and the semester\n",
    "cursor = db.courses.find({'$or': [{'lecturer.name': 'Frank Habermann'}, {'lecturer.name': 'Markus Löcher'}]})\n",
    "for course in cursor:\n",
    "    print(course['lecturer']['name'], ' teaches ', course['title'], 'in Semester ', course['semester'])"
   ]
  },
  {
   "attachments": {},
   "cell_type": "markdown",
   "metadata": {},
   "source": [
    "# Greater than, Less than"
   ]
  },
  {
   "cell_type": "code",
   "execution_count": 63,
   "metadata": {},
   "outputs": [
    {
     "name": "stdout",
     "output_type": "stream",
     "text": [
      "Text, Web and Social Media Analytics Lab in Semester  2\n",
      "Enterprise Architectures for Big Data in Semester  2\n",
      "Business Process Integration Lab in Semester  2\n",
      "IT-Security and Privacy in Semester  2\n",
      "Research Methods in Semester  2\n",
      "Master Thesis in Semester  3\n"
     ]
    }
   ],
   "source": [
    "# TODO: Find all courses in semester greater than 1\n",
    "# and print the title and the semester\n",
    "cursor = db.courses.find({'semester': {\"$gt\": 1}})\n",
    "for course in cursor:\n",
    "    print(course['title'], 'in Semester ', course['semester'])"
   ]
  },
  {
   "attachments": {},
   "cell_type": "markdown",
   "metadata": {},
   "source": [
    "# Counting"
   ]
  },
  {
   "cell_type": "code",
   "execution_count": 68,
   "metadata": {},
   "outputs": [
    {
     "name": "stdout",
     "output_type": "stream",
     "text": [
      "5\n"
     ]
    }
   ],
   "source": [
    "# TODO: How many courses are in the second semester?\n",
    "count = db.courses.count_documents({'semester': 2})\n",
    "print(count)"
   ]
  }
 ],
 "metadata": {
  "kernelspec": {
   "display_name": "Python 3",
   "language": "python",
   "name": "python3"
  },
  "language_info": {
   "codemirror_mode": {
    "name": "ipython",
    "version": 3
   },
   "file_extension": ".py",
   "mimetype": "text/x-python",
   "name": "python",
   "nbconvert_exporter": "python",
   "pygments_lexer": "ipython3",
   "version": "3.10.11"
  },
  "orig_nbformat": 4
 },
 "nbformat": 4,
 "nbformat_minor": 2
}
